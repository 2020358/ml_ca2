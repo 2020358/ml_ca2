{
 "cells": [
  {
   "cell_type": "code",
   "execution_count": null,
   "metadata": {},
   "outputs": [],
   "source": [
    "import pandas as pd\n",
    "import numpy as np\n",
    "import seaborn as sns\n",
    "import matplotlib.pyplot as plt\n",
    "# scaler \n",
    "from sklearn.preprocessing import PowerTransformer, MinMaxScaler, StandardScaler,QuantileTransformer\n",
    "#\n",
    "from sklearn.model_selection import train_test_split\n",
    "from sklearn.linear_model import LinearRegression\n",
    "from sklearn.metrics import mean_squared_error, mean_absolute_error"
   ]
  },
  {
   "cell_type": "markdown",
   "metadata": {},
   "source": [
    "Import Dataset"
   ]
  },
  {
   "cell_type": "code",
   "execution_count": null,
   "metadata": {},
   "outputs": [],
   "source": [
    "df = pd.read_csv(\"BankRecords.csv\")"
   ]
  },
  {
   "cell_type": "markdown",
   "metadata": {},
   "source": [
    "### EDA"
   ]
  },
  {
   "cell_type": "code",
   "execution_count": null,
   "metadata": {},
   "outputs": [],
   "source": [
    "df.head()"
   ]
  },
  {
   "cell_type": "code",
   "execution_count": null,
   "metadata": {},
   "outputs": [],
   "source": [
    "df.describe()"
   ]
  },
  {
   "cell_type": "code",
   "execution_count": null,
   "metadata": {},
   "outputs": [],
   "source": [
    "df.info()"
   ]
  },
  {
   "cell_type": "code",
   "execution_count": null,
   "metadata": {},
   "outputs": [],
   "source": [
    "df.isna().sum()"
   ]
  },
  {
   "cell_type": "markdown",
   "metadata": {},
   "source": []
  },
  {
   "cell_type": "markdown",
   "metadata": {},
   "source": [
    "Categorical Variables Unique Values"
   ]
  },
  {
   "cell_type": "code",
   "execution_count": null,
   "metadata": {},
   "outputs": [],
   "source": [
    "df[\"Education\"].unique()"
   ]
  },
  {
   "cell_type": "code",
   "execution_count": null,
   "metadata": {},
   "outputs": [],
   "source": [
    "df[\"CD Account\"].unique()"
   ]
  },
  {
   "cell_type": "code",
   "execution_count": null,
   "metadata": {},
   "outputs": [],
   "source": [
    "df[\"Online Banking\"].unique()"
   ]
  },
  {
   "cell_type": "code",
   "execution_count": null,
   "metadata": {},
   "outputs": [],
   "source": [
    "df[\"Securities Account\"].unique()"
   ]
  },
  {
   "cell_type": "code",
   "execution_count": null,
   "metadata": {},
   "outputs": [],
   "source": [
    "df[\"Securities Account\"].unique()"
   ]
  },
  {
   "cell_type": "code",
   "execution_count": null,
   "metadata": {},
   "outputs": [],
   "source": [
    "df[\"Personal Loan\"].unique()"
   ]
  },
  {
   "cell_type": "markdown",
   "metadata": {},
   "source": [
    "Encoding Categorical Variables "
   ]
  },
  {
   "cell_type": "code",
   "execution_count": null,
   "metadata": {},
   "outputs": [],
   "source": [
    "education_encoder = {\n",
    "  \"Diploma\" : 1,\n",
    "  \"Degree\" : 2,\n",
    "  \"Masters\" : 3\n",
    "}\n",
    "\n",
    "df[\"Education\"] = df[\"Education\"].map(education_encoder)"
   ]
  },
  {
   "cell_type": "code",
   "execution_count": null,
   "metadata": {},
   "outputs": [],
   "source": [
    "binary_columns = [\"Personal Loan\", \"Securities Account\", \"CD Account\", \"Online Banking\", \"CreditCard\"]\n",
    "\n",
    "df[binary_columns] = df[binary_columns].replace({\"Yes\": 1, \"No\": 0})"
   ]
  },
  {
   "cell_type": "markdown",
   "metadata": {},
   "source": [
    "Distribution of age variable"
   ]
  },
  {
   "cell_type": "code",
   "execution_count": null,
   "metadata": {},
   "outputs": [],
   "source": [
    "# Set the style of seaborn\n",
    "sns.set_style(\"whitegrid\")\n",
    "\n",
    "# Plot histograms for numerical variables\n",
    "sns.histplot(data=df, x='Age', bins=10, kde=True)"
   ]
  },
  {
   "cell_type": "code",
   "execution_count": null,
   "metadata": {},
   "outputs": [],
   "source": [
    "sns.countplot(data=df, x='Education')"
   ]
  },
  {
   "cell_type": "code",
   "execution_count": null,
   "metadata": {},
   "outputs": [],
   "source": [
    "sns.countplot(data=df, x=\"Family\")\n",
    "plt.xlabel('Family Size')\n",
    "plt.ylabel('Count')\n",
    "plt.title('Count of Family Sizes')\n",
    "plt.show()\n"
   ]
  },
  {
   "cell_type": "code",
   "execution_count": null,
   "metadata": {},
   "outputs": [],
   "source": [
    "sns.boxplot(data=df, y='Experience(Years)')"
   ]
  },
  {
   "cell_type": "code",
   "execution_count": null,
   "metadata": {},
   "outputs": [],
   "source": [
    "sns.boxplot(data=df, x='Education', y=\"Income(Thousands's)\")"
   ]
  },
  {
   "cell_type": "code",
   "execution_count": null,
   "metadata": {},
   "outputs": [],
   "source": [
    "df.hist(figsize=(12,12))\n",
    "plt.show()"
   ]
  },
  {
   "cell_type": "code",
   "execution_count": null,
   "metadata": {},
   "outputs": [],
   "source": [
    "sns.pairplot(df[[\"Age\", \"Experience(Years)\",\"Income(Thousands's)\", \"Credit Score\"]])"
   ]
  },
  {
   "cell_type": "code",
   "execution_count": null,
   "metadata": {},
   "outputs": [],
   "source": [
    "sns.histplot(data=df, x='Experience(Years)', bins=10, kde=True)\n",
    "\n",
    "plt.xlabel('Experience (Years)')\n",
    "plt.ylabel('Frequency')\n",
    "plt.title('Distribution of Experience')\n",
    "\n",
    "plt.show()"
   ]
  },
  {
   "cell_type": "markdown",
   "metadata": {},
   "source": [
    "Matrix Correlation "
   ]
  },
  {
   "cell_type": "code",
   "execution_count": null,
   "metadata": {},
   "outputs": [],
   "source": [
    "correlation_matrix = df.corr()\n",
    "  \n",
    "# Visualize the correlation matrix using a heatmap\n",
    "sns.heatmap(correlation_matrix, annot=True, cmap=\"coolwarm\", fmt=\".2f\", square=True)"
   ]
  },
  {
   "cell_type": "markdown",
   "metadata": {},
   "source": [
    "Median Experience by Age"
   ]
  },
  {
   "cell_type": "code",
   "execution_count": 46,
   "metadata": {},
   "outputs": [
    {
     "name": "stdout",
     "output_type": "stream",
     "text": [
      "Median experience by age:\n",
      "Age\n",
      "23    -1.5\n",
      "24    -1.0\n",
      "25     0.0\n",
      "26     1.0\n",
      "27     2.0\n",
      "28     3.0\n",
      "29     4.0\n",
      "30     5.0\n",
      "31     5.0\n",
      "32     7.0\n",
      "33     8.0\n",
      "34     9.0\n",
      "35    10.0\n",
      "36    11.0\n",
      "37    12.0\n",
      "38    13.0\n",
      "39    14.0\n",
      "40    15.0\n",
      "41    16.0\n",
      "42    17.0\n",
      "43    18.0\n",
      "44    19.0\n",
      "45    20.0\n",
      "46    21.0\n",
      "47    22.0\n",
      "48    23.0\n",
      "49    24.0\n",
      "50    25.0\n",
      "51    26.0\n",
      "52    27.0\n",
      "53    28.0\n",
      "54    29.0\n",
      "55    30.0\n",
      "56    31.0\n",
      "57    32.0\n",
      "58    33.0\n",
      "59    34.0\n",
      "60    35.0\n",
      "61    36.0\n",
      "62    37.0\n",
      "63    38.0\n",
      "64    39.0\n",
      "65    40.0\n",
      "66    41.0\n",
      "67    42.0\n",
      "Name: Experience(Years), dtype: float64\n"
     ]
    }
   ],
   "source": [
    "median_exp_by_age = df.groupby(\"Age\")[\"Experience(Years)\"].median()\n",
    "\n",
    "\n",
    "print(\"Median experience by age:\")\n",
    "print(median_exp_by_age)"
   ]
  },
  {
   "cell_type": "markdown",
   "metadata": {},
   "source": [
    "Number of records that experiance column has negative value"
   ]
  },
  {
   "cell_type": "code",
   "execution_count": null,
   "metadata": {},
   "outputs": [],
   "source": [
    "filtered_df = df[(df[\"Experience(Years)\"] <= 0) & (df[\"Income(Thousands's)\"] > 0)]\n",
    "\n",
    "age_group_counts = filtered_df.groupby(\"Age\").size()\n",
    "\n",
    "print(\"Number of records for each age group where experience is smaller than 0:\")\n",
    "print(age_group_counts)"
   ]
  },
  {
   "cell_type": "markdown",
   "metadata": {},
   "source": [
    "Total number of records for each age"
   ]
  },
  {
   "cell_type": "code",
   "execution_count": null,
   "metadata": {},
   "outputs": [],
   "source": [
    "age_group_counts = df.groupby(\"Age\").size()\n",
    "\n",
    "print(\"Number of records for each age group:\")\n",
    "print(age_group_counts)\n"
   ]
  },
  {
   "cell_type": "code",
   "execution_count": null,
   "metadata": {},
   "outputs": [],
   "source": []
  }
 ],
 "metadata": {
  "language_info": {
   "name": "python"
  }
 },
 "nbformat": 4,
 "nbformat_minor": 2
}
